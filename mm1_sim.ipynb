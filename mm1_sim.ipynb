{
 "cells": [
  {
   "cell_type": "code",
   "execution_count": 9,
   "metadata": {},
   "outputs": [],
   "source": [
    "#autoreload reloads modules automatically before entering the execution of code typed at the IPython prompt.\n",
    "%load_ext autoreload\n",
    "%autoreload 2"
   ]
  },
  {
   "cell_type": "code",
   "execution_count": 62,
   "metadata": {},
   "outputs": [],
   "source": [
    "from simulations import mm1_simulation, md1_simulation, customers_mean, mean_wait, queue_sim"
   ]
  },
  {
   "cell_type": "code",
   "execution_count": 11,
   "metadata": {},
   "outputs": [
    {
     "data": {
      "text/html": [
       "<div>\n",
       "<style scoped>\n",
       "    .dataframe tbody tr th:only-of-type {\n",
       "        vertical-align: middle;\n",
       "    }\n",
       "\n",
       "    .dataframe tbody tr th {\n",
       "        vertical-align: top;\n",
       "    }\n",
       "\n",
       "    .dataframe thead th {\n",
       "        text-align: right;\n",
       "    }\n",
       "</style>\n",
       "<table border=\"1\" class=\"dataframe\">\n",
       "  <thead>\n",
       "    <tr style=\"text-align: right;\">\n",
       "      <th></th>\n",
       "      <th>time</th>\n",
       "      <th>N</th>\n",
       "      <th>op</th>\n",
       "      <th>run</th>\n",
       "      <th>holding</th>\n",
       "    </tr>\n",
       "  </thead>\n",
       "  <tbody>\n",
       "    <tr>\n",
       "      <th>0</th>\n",
       "      <td>0.000000</td>\n",
       "      <td>1</td>\n",
       "      <td>a</td>\n",
       "      <td>0</td>\n",
       "      <td>0.111404</td>\n",
       "    </tr>\n",
       "    <tr>\n",
       "      <th>1</th>\n",
       "      <td>0.111404</td>\n",
       "      <td>2</td>\n",
       "      <td>a</td>\n",
       "      <td>0</td>\n",
       "      <td>0.110254</td>\n",
       "    </tr>\n",
       "    <tr>\n",
       "      <th>2</th>\n",
       "      <td>0.221659</td>\n",
       "      <td>3</td>\n",
       "      <td>a</td>\n",
       "      <td>0</td>\n",
       "      <td>0.246588</td>\n",
       "    </tr>\n",
       "    <tr>\n",
       "      <th>3</th>\n",
       "      <td>0.468247</td>\n",
       "      <td>4</td>\n",
       "      <td>a</td>\n",
       "      <td>0</td>\n",
       "      <td>0.008642</td>\n",
       "    </tr>\n",
       "    <tr>\n",
       "      <th>4</th>\n",
       "      <td>0.476889</td>\n",
       "      <td>5</td>\n",
       "      <td>a</td>\n",
       "      <td>0</td>\n",
       "      <td>0.128558</td>\n",
       "    </tr>\n",
       "  </tbody>\n",
       "</table>\n",
       "</div>"
      ],
      "text/plain": [
       "       time  N op  run   holding\n",
       "0  0.000000  1  a    0  0.111404\n",
       "1  0.111404  2  a    0  0.110254\n",
       "2  0.221659  3  a    0  0.246588\n",
       "3  0.468247  4  a    0  0.008642\n",
       "4  0.476889  5  a    0  0.128558"
      ]
     },
     "execution_count": 11,
     "metadata": {},
     "output_type": "execute_result"
    }
   ],
   "source": [
    "ledger_df = mm1_simulation(3,2)\n",
    "ledger_df.head()"
   ]
  },
  {
   "cell_type": "code",
   "execution_count": 12,
   "metadata": {},
   "outputs": [
    {
     "data": {
      "text/plain": [
       "(104.41474300079953, (98.12535440169795, 110.70413159990112))"
      ]
     },
     "execution_count": 12,
     "metadata": {},
     "output_type": "execute_result"
    }
   ],
   "source": [
    "customers_mean(ledger_df)"
   ]
  },
  {
   "cell_type": "code",
   "execution_count": 13,
   "metadata": {},
   "outputs": [
    {
     "data": {
      "text/plain": [
       "(34.19883833079258, (31.700132003390046, 36.69754465819512))"
      ]
     },
     "execution_count": 13,
     "metadata": {},
     "output_type": "execute_result"
    }
   ],
   "source": [
    "mean_wait(ledger_df)"
   ]
  },
  {
   "cell_type": "code",
   "execution_count": 55,
   "metadata": {},
   "outputs": [],
   "source": [
    "from simulations import md1_queue\n",
    "ledger_md1 = md1_simulation(4,3)"
   ]
  },
  {
   "cell_type": "code",
   "execution_count": 56,
   "metadata": {},
   "outputs": [
    {
     "name": "stdout",
     "output_type": "stream",
     "text": [
      "           time    N op  run   holding\n",
      "0      0.000000    1  a    0  0.259737\n",
      "1      0.259737    2  a    0  0.073597\n",
      "2      0.333333    1  s    0  0.062763\n",
      "3      0.396096    2  a    0  0.270570\n",
      "4      0.666667    1  s    0  0.097502\n",
      "..          ...  ... ..  ...       ...\n",
      "994  141.805873  151  a    9  0.160845\n",
      "995  141.966718  152  a    9  0.064999\n",
      "996  142.031717  153  a    9  0.001816\n",
      "997  142.033533  152  s    9  0.279481\n",
      "998  142.313014  153  a    9  0.053852\n",
      "\n",
      "[9990 rows x 5 columns]\n"
     ]
    }
   ],
   "source": [
    "print(ledger_md1)"
   ]
  },
  {
   "cell_type": "code",
   "execution_count": 57,
   "metadata": {},
   "outputs": [
    {
     "data": {
      "text/plain": [
       "(80.38792452764523, (70.36824290992865, 90.4076061453618))"
      ]
     },
     "execution_count": 57,
     "metadata": {},
     "output_type": "execute_result"
    }
   ],
   "source": [
    "customers_mean(ledger_md1)"
   ]
  },
  {
   "cell_type": "code",
   "execution_count": 58,
   "metadata": {},
   "outputs": [
    {
     "data": {
      "text/plain": [
       "(19.7023153947358, (17.385495340822715, 22.019135448648882))"
      ]
     },
     "execution_count": 58,
     "metadata": {},
     "output_type": "execute_result"
    }
   ],
   "source": [
    "mean_wait(ledger_md1)"
   ]
  },
  {
   "cell_type": "code",
   "execution_count": 59,
   "metadata": {},
   "outputs": [
    {
     "data": {
      "text/plain": [
       "run\n",
       "0    0.113236\n",
       "1    0.116152\n",
       "2    0.114678\n",
       "3    0.115197\n",
       "4    0.113878\n",
       "5    0.115485\n",
       "6    0.117663\n",
       "7    0.111710\n",
       "8    0.115706\n",
       "9    0.111600\n",
       "Name: holding, dtype: float64"
      ]
     },
     "execution_count": 59,
     "metadata": {},
     "output_type": "execute_result"
    }
   ],
   "source": [
    "ledger_md1[ledger_md1.op == 'a'].groupby('run').holding.mean()"
   ]
  },
  {
   "cell_type": "code",
   "execution_count": 60,
   "metadata": {},
   "outputs": [
    {
     "data": {
      "text/plain": [
       "2.987172659439948"
      ]
     },
     "execution_count": 60,
     "metadata": {},
     "output_type": "execute_result"
    }
   ],
   "source": [
    "run_group = ledger_md1[ledger_md1.op == 's'].groupby('run')\n",
    "(run_group.op.count()/run_group.time.max()).mean()"
   ]
  },
  {
   "cell_type": "code",
   "execution_count": 69,
   "metadata": {},
   "outputs": [],
   "source": [
    "ledger_df = queue_sim(200,100,kind = 'd')"
   ]
  },
  {
   "cell_type": "code",
   "execution_count": 71,
   "metadata": {},
   "outputs": [
    {
     "data": {
      "text/plain": [
       "(0.8314054054022403, (0.8179320934000761, 0.8448787174044045))"
      ]
     },
     "execution_count": 71,
     "metadata": {},
     "output_type": "execute_result"
    }
   ],
   "source": [
    "mean_wait(ledger_df)"
   ]
  },
  {
   "cell_type": "markdown",
   "metadata": {},
   "source": [
    "O periodo ocupado da fila MD1 é 1/mu * número de consumidores servidos (número de serviços). Confirmamos isso multiplicando a utilização (fração do tempo) pelo tempo máximo de cada execução "
   ]
  },
  {
   "cell_type": "code",
   "execution_count": 77,
   "metadata": {},
   "outputs": [
    {
     "data": {
      "text/plain": [
       "(0.9998515814518569, (0.9995639491941054, 1.0001392137096086))"
      ]
     },
     "execution_count": 77,
     "metadata": {},
     "output_type": "execute_result"
    }
   ],
   "source": [
    "from simulations import utilization\n",
    "utilization(ledger_df)"
   ]
  },
  {
   "cell_type": "code",
   "execution_count": 84,
   "metadata": {},
   "outputs": [
    {
     "data": {
      "text/plain": [
       "run\n",
       "0    3.32\n",
       "1    3.32\n",
       "2    3.27\n",
       "3    3.27\n",
       "4    3.27\n",
       "5    3.49\n",
       "6    3.45\n",
       "7    3.49\n",
       "8    3.35\n",
       "9    3.25\n",
       "Name: op, dtype: float64"
      ]
     },
     "execution_count": 84,
     "metadata": {},
     "output_type": "execute_result"
    }
   ],
   "source": [
    "D = 1/100\n",
    "ledger_df[ledger_df.op == 's'].groupby('run').op.count() * D"
   ]
  },
  {
   "cell_type": "code",
   "execution_count": 85,
   "metadata": {},
   "outputs": [
    {
     "data": {
      "text/plain": [
       "run\n",
       "0    3.327411\n",
       "1    3.321930\n",
       "2    3.272933\n",
       "3    3.270862\n",
       "4    3.274000\n",
       "5    3.490000\n",
       "6    3.454649\n",
       "7    3.502996\n",
       "8    3.350000\n",
       "9    3.255986\n",
       "Name: time, dtype: float64"
      ]
     },
     "execution_count": 85,
     "metadata": {},
     "output_type": "execute_result"
    }
   ],
   "source": [
    "ledger_df.groupby('run').time.max()"
   ]
  },
  {
   "cell_type": "code",
   "execution_count": null,
   "metadata": {},
   "outputs": [],
   "source": []
  }
 ],
 "metadata": {
  "interpreter": {
   "hash": "2db524e06e9f5f4ffedc911c917cb75e12dbc923643829bf417064a77eb14d37"
  },
  "kernelspec": {
   "display_name": "Python 3.8.3 64-bit (system)",
   "language": "python",
   "name": "python3"
  },
  "language_info": {
   "codemirror_mode": {
    "name": "ipython",
    "version": 3
   },
   "file_extension": ".py",
   "mimetype": "text/x-python",
   "name": "python",
   "nbconvert_exporter": "python",
   "pygments_lexer": "ipython3",
   "version": "3.8.3"
  },
  "orig_nbformat": 4
 },
 "nbformat": 4,
 "nbformat_minor": 2
}
