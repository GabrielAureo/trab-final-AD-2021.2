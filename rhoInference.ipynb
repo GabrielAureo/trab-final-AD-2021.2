{
 "cells": [
  {
   "cell_type": "code",
   "execution_count": 1,
   "metadata": {},
   "outputs": [],
   "source": [
    "from simulations import queue_sim\n",
    "import math\n",
    "import numpy as np\n",
    "import matplotlib.pyplot as plt"
   ]
  },
  {
   "cell_type": "markdown",
   "metadata": {},
   "source": [
    "Função de Simulação para Obter Trace:"
   ]
  },
  {
   "cell_type": "code",
   "execution_count": 2,
   "metadata": {},
   "outputs": [],
   "source": [
    "def simulateAndGetFilteredMM1Trace(lamda, mu):\n",
    "    data = queue_sim(lamda, mu, max_events=10000, runs=1).data\n",
    "    filter = data['type'] == 's'\n",
    "    filtered_served_events = data[filter]\n",
    "    trace = filtered_served_events['N'].to_numpy()\n",
    "    return trace"
   ]
  },
  {
   "cell_type": "markdown",
   "metadata": {},
   "source": [
    "Funções Auxiliares para Plotar Gráficos de PDF e CDF:"
   ]
  },
  {
   "cell_type": "code",
   "execution_count": 3,
   "metadata": {},
   "outputs": [],
   "source": [
    "def plot_rho_pdf(samples, bins=100):\n",
    "    weights = np.ones_like(samples)/len(samples)\n",
    "    plt.hist(samples, weights=weights, bins=bins)\n",
    "\n",
    "def plot_rho_cdf(samples, bins=100):\n",
    "    weights = np.ones_like(samples)/len(samples)\n",
    "    plt.hist(samples, weights=weights, bins=bins, cumulative=True)"
   ]
  },
  {
   "cell_type": "markdown",
   "metadata": {},
   "source": [
    "Algoritmo MCMC de Inferência:"
   ]
  },
  {
   "cell_type": "code",
   "execution_count": 4,
   "metadata": {},
   "outputs": [],
   "source": [
    "def calcMetropolisHastingsAcceptanceRatio(proposal, current, traceSum, traceLength):\n",
    "    if(0 > proposal or proposal > 1): return 0\n",
    "    # A fórmula da distribuição f(rho|v), como introduzida no enunciado do trabalho, resultaria na seguinte razão (a distribuição de proposta é omitida por ser simétrica):\n",
    "    #   ((proposal**traceSum * (1 - proposal)**traceLength) * K) / ((current**traceSum * (1 - current)**traceLength) * K)\n",
    "    # A constante K estará presente tanto no numerador quando denominador, podendo ser eliminada:\n",
    "    #   (proposal**traceSum * (1 - proposal)**traceLength) / (current**traceSum * (1 - current)**traceLength)\n",
    "    # A expressão acima, conteria no numerador e denominador números extremamente pequenos devido aos expoentes presentes.\n",
    "    # Desse modo, aplicamos a função exponencial e logaritmica sequencialmente para evitar divisões por zero e números infinitos causados por erros de precisão:\n",
    "    logRatio = ((np.log(proposal)*traceSum) + (np.log(1 - proposal)*traceLength)) - ((np.log(current)*traceSum) + (np.log(1 - current)*traceLength))\n",
    "    if logRatio > 1: return 1\n",
    "    return np.exp(logRatio)\n",
    "\n",
    "\n",
    "def mcmcSampleRhoGivenTrace(traceSum, traceLength, initialRho=0.5, iterations=100000, burnIn=1000):\n",
    "\n",
    "    currentRho = initialRho\n",
    "    totalAccepted = 0\n",
    "    totalRejected = 0\n",
    "\n",
    "    ### METROPOLIS-HASTINGS ###\n",
    "    doneWithBurnIn = False\n",
    "    for i in range(iterations):\n",
    "        if i >= burnIn and not doneWithBurnIn:\n",
    "            samples = [currentRho]\n",
    "            doneWithBurnIn = True\n",
    "        proposalRho = np.random.uniform(0, 1)\n",
    "        acceptanceRatio = calcMetropolisHastingsAcceptanceRatio(proposalRho, currentRho, traceSum, traceLength)\n",
    "        if acceptanceRatio >= 1 or acceptanceRatio > np.random.uniform(0, 1):\n",
    "            currentRho = proposalRho\n",
    "            if doneWithBurnIn:\n",
    "                samples.append(proposalRho)\n",
    "                totalAccepted += 1\n",
    "        elif doneWithBurnIn:\n",
    "            samples.append(currentRho)\n",
    "            totalRejected += 1\n",
    "    ############################\n",
    "\n",
    "    print('Mean Rho from MCMC: ', np.mean(samples))\n",
    "    print('Variance: ', np.var(samples))\n",
    "    \n",
    "    return samples"
   ]
  },
  {
   "cell_type": "markdown",
   "metadata": {},
   "source": [
    "Execução:"
   ]
  },
  {
   "cell_type": "code",
   "execution_count": 5,
   "metadata": {},
   "outputs": [
    {
     "name": "stdout",
     "output_type": "stream",
     "text": [
      "Mean Rho from MCMC:  0.7180709411345482\n",
      "Variance:  1.1494156473616166e-05\n",
      "m =  4997\n",
      "y =  12725\n"
     ]
    }
   ],
   "source": [
    "trace = simulateAndGetFilteredMM1Trace(lamda=7, mu=10)\n",
    "samples = mcmcSampleRhoGivenTrace(traceSum=sum(trace), traceLength=len(trace), iterations=1000000, initialRho=0.5, burnIn=1000)\n",
    "print('m = ', len(trace))\n",
    "print('y = ', sum(trace))"
   ]
  },
  {
   "cell_type": "code",
   "execution_count": 6,
   "metadata": {},
   "outputs": [
    {
     "data": {
      "image/png": "[encoded data removed]",
      "text/plain": [
       "<Figure size 432x288 with 1 Axes>"
      ]
     },
     "metadata": {
      "needs_background": "light"
     },
     "output_type": "display_data"
    }
   ],
   "source": [
    "plot_rho_pdf(samples, bins=100)"
   ]
  },
  {
   "cell_type": "code",
   "execution_count": 7,
   "metadata": {},
   "outputs": [
    {
     "data": {
      "image/png": "[encoded data removed]",
      "text/plain": [
       "<Figure size 432x288 with 1 Axes>"
      ]
     },
     "metadata": {
      "needs_background": "light"
     },
     "output_type": "display_data"
    }
   ],
   "source": [
    "plot_rho_cdf(samples, bins=100)"
   ]
  },
  {
   "cell_type": "markdown",
   "metadata": {},
   "source": [
    "Validação de Corretude (demora para rodar):"
   ]
  },
  {
   "cell_type": "code",
   "execution_count": 8,
   "metadata": {},
   "outputs": [],
   "source": [
    "def getConfidenceInterval(samples, confidence_rate = 1.96):\n",
    "    x = np.mean(samples)\n",
    "    n = len(samples)\n",
    "    s = np.std(samples)\n",
    "    z = confidence_rate\n",
    "    return (x - z*(s/math.sqrt(n)), x + z*(s/math.sqrt(n)))"
   ]
  },
  {
   "cell_type": "code",
   "execution_count": 9,
   "metadata": {},
   "outputs": [],
   "source": [
    "def simulateTracesAndEstimateRho(lamda, mu, numberOfTraces = 10000):\n",
    "    estimates = []\n",
    "    for _ in range(numberOfTraces):\n",
    "        trace = simulateAndGetFilteredMM1Trace(lamda, mu)\n",
    "        rhoGivenTrace = np.mean(mcmcSampleRhoGivenTrace(sum(trace), len(trace)))\n",
    "        estimates.append(rhoGivenTrace)\n",
    "\n",
    "    print('Real Rho: ', lamda/mu)\n",
    "    print('Average of Estimated Rhos: ', sum(estimates)/len(estimates))\n",
    "    print('Confidence Interval: ', getConfidenceInterval(estimates))\n",
    "    return estimates"
   ]
  },
  {
   "cell_type": "code",
   "execution_count": null,
   "metadata": {},
   "outputs": [],
   "source": []
  }
 ],
 "metadata": {
  "interpreter": {
   "hash": "2db524e06e9f5f4ffedc911c917cb75e12dbc923643829bf417064a77eb14d37"
  },
  "kernelspec": {
   "display_name": "Python 3.8.3 64-bit",
   "language": "python",
   "name": "python3"
  },
  "language_info": {
   "codemirror_mode": {
    "name": "ipython",
    "version": 3
   },
   "file_extension": ".py",
   "mimetype": "text/x-python",
   "name": "python",
   "nbconvert_exporter": "python",
   "pygments_lexer": "ipython3",
   "version": "3.8.3"
  },
  "orig_nbformat": 4
 },
 "nbformat": 4,
 "nbformat_minor": 2
}
