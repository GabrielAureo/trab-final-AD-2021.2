{
 "cells": [
  {
   "cell_type": "code",
   "execution_count": 2,
   "metadata": {},
   "outputs": [],
   "source": [
    "#autoreload reloads modules automatically before entering the execution of code typed at the IPython prompt.\n",
    "%load_ext autoreload\n",
    "%autoreload 2"
   ]
  },
  {
   "cell_type": "code",
   "execution_count": 3,
   "metadata": {},
   "outputs": [],
   "source": [
    "from simulations import queue_sim\n",
    "from plot_metrics import plot_average_metrics"
   ]
  },
  {
   "cell_type": "code",
   "execution_count": 4,
   "metadata": {},
   "outputs": [],
   "source": [
    "sims = [\n",
    "    {'lamda': 1, 'mu': 10, 'kind' : 'm'},\n",
    "    {'lamda': 2, 'mu': 20, 'kind' : 'm'},\n",
    "    {'lamda': 12, 'mu': 10, 'kind' : 'm'},\n",
    "    {'lamda': 20, 'mu': 10, 'kind' : 'm'},\n",
    "    {'lamda': 1, 'mu': 10, 'kind' : 'd'},\n",
    "    {'lamda': 2, 'mu': 20, 'kind' : 'd'},\n",
    "    {'lamda': 12, 'mu': 10, 'kind' : 'd'},\n",
    "    {'lamda': 20, 'mu': 10, 'kind' : 'd'},\n",
    "]"
   ]
  },
  {
   "cell_type": "code",
   "execution_count": 6,
   "metadata": {},
   "outputs": [
    {
     "ename": "KeyboardInterrupt",
     "evalue": "",
     "output_type": "error",
     "traceback": [
      "\u001b[1;31m---------------------------------------------------------------------------\u001b[0m",
      "\u001b[1;31mKeyboardInterrupt\u001b[0m                         Traceback (most recent call last)",
      "\u001b[1;32mc:\\Users\\aluno14.TSACBRRJLP03E\\Documents\\trab-final-AD-2021.2\\expected_plots.ipynb Cell 4'\u001b[0m in \u001b[0;36m<cell line: 1>\u001b[1;34m()\u001b[0m\n\u001b[1;32m----> <a href='vscode-notebook-cell:/c%3A/Users/aluno14.TSACBRRJLP03E/Documents/trab-final-AD-2021.2/expected_plots.ipynb#ch0000002?line=0'>1</a>\u001b[0m sim_objs \u001b[39m=\u001b[39m [queue_sim(lamda\u001b[39m=\u001b[39m sim[\u001b[39m'\u001b[39m\u001b[39mlamda\u001b[39m\u001b[39m'\u001b[39m], mu \u001b[39m=\u001b[39m sim[\u001b[39m'\u001b[39m\u001b[39mmu\u001b[39m\u001b[39m'\u001b[39m], kind \u001b[39m=\u001b[39m sim[\u001b[39m'\u001b[39m\u001b[39mkind\u001b[39m\u001b[39m'\u001b[39m], max_events\u001b[39m=\u001b[39m \u001b[39m1e100\u001b[39m, runs \u001b[39m=\u001b[39m \u001b[39m3000\u001b[39m, export\u001b[39m=\u001b[39m \u001b[39mTrue\u001b[39;00m) \u001b[39mfor\u001b[39;00m sim \u001b[39min\u001b[39;00m sims]\n",
      "\u001b[1;32mc:\\Users\\aluno14.TSACBRRJLP03E\\Documents\\trab-final-AD-2021.2\\expected_plots.ipynb Cell 4'\u001b[0m in \u001b[0;36m<listcomp>\u001b[1;34m(.0)\u001b[0m\n\u001b[1;32m----> <a href='vscode-notebook-cell:/c%3A/Users/aluno14.TSACBRRJLP03E/Documents/trab-final-AD-2021.2/expected_plots.ipynb#ch0000002?line=0'>1</a>\u001b[0m sim_objs \u001b[39m=\u001b[39m [queue_sim(lamda\u001b[39m=\u001b[39;49m sim[\u001b[39m'\u001b[39;49m\u001b[39mlamda\u001b[39;49m\u001b[39m'\u001b[39;49m], mu \u001b[39m=\u001b[39;49m sim[\u001b[39m'\u001b[39;49m\u001b[39mmu\u001b[39;49m\u001b[39m'\u001b[39;49m], kind \u001b[39m=\u001b[39;49m sim[\u001b[39m'\u001b[39;49m\u001b[39mkind\u001b[39;49m\u001b[39m'\u001b[39;49m], max_events\u001b[39m=\u001b[39;49m \u001b[39m1e100\u001b[39;49m, runs \u001b[39m=\u001b[39;49m \u001b[39m3000\u001b[39;49m, export\u001b[39m=\u001b[39;49m \u001b[39mTrue\u001b[39;49;00m) \u001b[39mfor\u001b[39;00m sim \u001b[39min\u001b[39;00m sims]\n",
      "File \u001b[1;32mc:\\Users\\aluno14.TSACBRRJLP03E\\Documents\\trab-final-AD-2021.2\\simulations.py:222\u001b[0m, in \u001b[0;36mqueue_sim\u001b[1;34m(lamda, mu, max_time, max_events, runs, kind, export)\u001b[0m\n\u001b[0;32m    <a href='file:///c%3A/Users/aluno14.TSACBRRJLP03E/Documents/trab-final-AD-2021.2/simulations.py?line=218'>219</a>\u001b[0m ledger_df \u001b[39m=\u001b[39m []\n\u001b[0;32m    <a href='file:///c%3A/Users/aluno14.TSACBRRJLP03E/Documents/trab-final-AD-2021.2/simulations.py?line=220'>221</a>\u001b[0m \u001b[39mfor\u001b[39;00m i \u001b[39min\u001b[39;00m \u001b[39mrange\u001b[39m(runs):\n\u001b[1;32m--> <a href='file:///c%3A/Users/aluno14.TSACBRRJLP03E/Documents/trab-final-AD-2021.2/simulations.py?line=221'>222</a>\u001b[0m     ledger \u001b[39m=\u001b[39m m_queue(lamda, mu, max_time \u001b[39m=\u001b[39;49m max_time, max_events \u001b[39m=\u001b[39;49m max_events, kind \u001b[39m=\u001b[39;49m kind)\n\u001b[0;32m    <a href='file:///c%3A/Users/aluno14.TSACBRRJLP03E/Documents/trab-final-AD-2021.2/simulations.py?line=222'>223</a>\u001b[0m     ledger \u001b[39m=\u001b[39m pd\u001b[39m.\u001b[39mDataFrame(ledger)\n\u001b[0;32m    <a href='file:///c%3A/Users/aluno14.TSACBRRJLP03E/Documents/trab-final-AD-2021.2/simulations.py?line=223'>224</a>\u001b[0m     ledger[\u001b[39m'\u001b[39m\u001b[39mrun\u001b[39m\u001b[39m'\u001b[39m] \u001b[39m=\u001b[39m i\n",
      "File \u001b[1;32mc:\\Users\\aluno14.TSACBRRJLP03E\\Documents\\trab-final-AD-2021.2\\simulations.py:201\u001b[0m, in \u001b[0;36mm_queue\u001b[1;34m(lamda, mu, max_time, max_events, kind)\u001b[0m\n\u001b[0;32m    <a href='file:///c%3A/Users/aluno14.TSACBRRJLP03E/Documents/trab-final-AD-2021.2/simulations.py?line=198'>199</a>\u001b[0m N \u001b[39m-\u001b[39m\u001b[39m=\u001b[39m \u001b[39m1\u001b[39m\n\u001b[0;32m    <a href='file:///c%3A/Users/aluno14.TSACBRRJLP03E/Documents/trab-final-AD-2021.2/simulations.py?line=199'>200</a>\u001b[0m \u001b[39mif\u001b[39;00m(N \u001b[39m>\u001b[39m \u001b[39m0\u001b[39m):\n\u001b[1;32m--> <a href='file:///c%3A/Users/aluno14.TSACBRRJLP03E/Documents/trab-final-AD-2021.2/simulations.py?line=200'>201</a>\u001b[0m   service_duration \u001b[39m=\u001b[39m wait_function(mu)\n\u001b[0;32m    <a href='file:///c%3A/Users/aluno14.TSACBRRJLP03E/Documents/trab-final-AD-2021.2/simulations.py?line=201'>202</a>\u001b[0m   service_time \u001b[39m=\u001b[39m time \u001b[39m+\u001b[39m service_duration\n\u001b[0;32m    <a href='file:///c%3A/Users/aluno14.TSACBRRJLP03E/Documents/trab-final-AD-2021.2/simulations.py?line=202'>203</a>\u001b[0m   equeue\u001b[39m.\u001b[39mappend({\n\u001b[0;32m    <a href='file:///c%3A/Users/aluno14.TSACBRRJLP03E/Documents/trab-final-AD-2021.2/simulations.py?line=203'>204</a>\u001b[0m     \u001b[39m'\u001b[39m\u001b[39mtype\u001b[39m\u001b[39m'\u001b[39m : \u001b[39m'\u001b[39m\u001b[39ms\u001b[39m\u001b[39m'\u001b[39m,\n\u001b[0;32m    <a href='file:///c%3A/Users/aluno14.TSACBRRJLP03E/Documents/trab-final-AD-2021.2/simulations.py?line=204'>205</a>\u001b[0m     \u001b[39m'\u001b[39m\u001b[39mtime\u001b[39m\u001b[39m'\u001b[39m : service_time,\n\u001b[0;32m    <a href='file:///c%3A/Users/aluno14.TSACBRRJLP03E/Documents/trab-final-AD-2021.2/simulations.py?line=205'>206</a>\u001b[0m     \u001b[39m'\u001b[39m\u001b[39mduration\u001b[39m\u001b[39m'\u001b[39m : service_duration\n\u001b[0;32m    <a href='file:///c%3A/Users/aluno14.TSACBRRJLP03E/Documents/trab-final-AD-2021.2/simulations.py?line=206'>207</a>\u001b[0m     })\n",
      "\u001b[1;31mKeyboardInterrupt\u001b[0m: "
     ]
    }
   ],
   "source": [
    "sim_objs = [queue_sim(lamda= sim['lamda'], mu = sim['mu'], kind = sim['kind'], max_events= 1e10, runs = 3000, export= True) for sim in sims]"
   ]
  },
  {
   "cell_type": "code",
   "execution_count": null,
   "metadata": {},
   "outputs": [],
   "source": []
  }
 ],
 "metadata": {
  "interpreter": {
   "hash": "6deb770ab92032a32299e3d0d40415cdcb755b04760cd0272f2c4e53cb84bf34"
  },
  "kernelspec": {
   "display_name": "Python 3.10.2 64-bit",
   "language": "python",
   "name": "python3"
  },
  "language_info": {
   "codemirror_mode": {
    "name": "ipython",
    "version": 3
   },
   "file_extension": ".py",
   "mimetype": "text/x-python",
   "name": "python",
   "nbconvert_exporter": "python",
   "pygments_lexer": "ipython3",
   "version": "3.10.2"
  },
  "orig_nbformat": 4
 },
 "nbformat": 4,
 "nbformat_minor": 2
}
