{
 "cells": [
  {
   "cell_type": "code",
   "execution_count": 32,
   "metadata": {},
   "outputs": [
    {
     "name": "stdout",
     "output_type": "stream",
     "text": [
      "The autoreload extension is already loaded. To reload it, use:\n",
      "  %reload_ext autoreload\n"
     ]
    }
   ],
   "source": [
    "#autoreload reloads modules automatically before entering the execution of code typed at the IPython prompt.\n",
    "%load_ext autoreload\n",
    "%autoreload 2"
   ]
  },
  {
   "cell_type": "code",
   "execution_count": 33,
   "metadata": {},
   "outputs": [],
   "source": [
    "import simulations as simul"
   ]
  },
  {
   "cell_type": "code",
   "execution_count": 41,
   "metadata": {},
   "outputs": [],
   "source": [
    "sim = simul.queue_sim(3,4)"
   ]
  },
  {
   "cell_type": "code",
   "execution_count": 42,
   "metadata": {},
   "outputs": [
    {
     "name": "stdout",
     "output_type": "stream",
     "text": [
      "           time  N op  run   holding\n",
      "0      0.000000  1  a    0  0.076407\n",
      "1      0.076407  0  s    0  0.296488\n",
      "2      0.372896  1  a    0  0.053561\n",
      "3      0.426456  0  s    0  0.182571\n",
      "4      0.609027  1  a    0  0.065646\n",
      "..          ... .. ..  ...       ...\n",
      "994  164.338545  1  a    9  0.099705\n",
      "995  164.438250  2  a    9  0.216379\n",
      "996  164.654629  1  s    9  0.188057\n",
      "997  164.842686  2  a    9  0.021817\n",
      "998  164.864503  1  s    9  0.005042\n",
      "\n",
      "[9990 rows x 5 columns]\n"
     ]
    }
   ],
   "source": [
    "print(sim.data)"
   ]
  },
  {
   "cell_type": "code",
   "execution_count": 43,
   "metadata": {},
   "outputs": [
    {
     "data": {
      "text/plain": [
       "           time  N op  run   holding\n",
       "0      0.000000  1  a    0  0.076407\n",
       "1      0.076407  0  s    0  0.296488\n",
       "2      0.372896  1  a    0  0.053561\n",
       "3      0.426456  0  s    0  0.182571\n",
       "4      0.609027  1  a    0  0.065646\n",
       "..          ... .. ..  ...       ...\n",
       "994  164.338545  1  a    9  0.099705\n",
       "995  164.438250  2  a    9  0.216379\n",
       "996  164.654629  1  s    9  0.188057\n",
       "997  164.842686  2  a    9  0.021817\n",
       "998  164.864503  1  s    9  0.005042\n",
       "\n",
       "[9990 rows x 5 columns]"
      ]
     },
     "execution_count": 43,
     "metadata": {},
     "output_type": "execute_result"
    }
   ],
   "source": [
    "sim"
   ]
  },
  {
   "cell_type": "code",
   "execution_count": 44,
   "metadata": {},
   "outputs": [
    {
     "data": {
      "text/plain": [
       "(2.829117779229785, (2.2337771069054573, 3.4244584515541123))"
      ]
     },
     "execution_count": 44,
     "metadata": {},
     "output_type": "execute_result"
    }
   ],
   "source": [
    "simul.customers_mean(sim)"
   ]
  },
  {
   "cell_type": "code",
   "execution_count": 45,
   "metadata": {},
   "outputs": [
    {
     "data": {
      "text/plain": [
       "3.0"
      ]
     },
     "execution_count": 45,
     "metadata": {},
     "output_type": "execute_result"
    }
   ],
   "source": [
    "sim.average_customers()"
   ]
  },
  {
   "cell_type": "code",
   "execution_count": 46,
   "metadata": {},
   "outputs": [
    {
     "data": {
      "text/plain": [
       "(0.9377546457007926, (0.7465384116790217, 1.1289708797225635))"
      ]
     },
     "execution_count": 46,
     "metadata": {},
     "output_type": "execute_result"
    }
   ],
   "source": [
    "simul.mean_wait(sim)"
   ]
  },
  {
   "cell_type": "markdown",
   "metadata": {},
   "source": [
    "O periodo ocupado da fila MD1 é 1/mu * número de consumidores servidos (número de serviços). Confirmamos isso multiplicando a utilização (fração do tempo) pelo tempo máximo de cada execução "
   ]
  },
  {
   "cell_type": "code",
   "execution_count": 48,
   "metadata": {},
   "outputs": [
    {
     "data": {
      "text/plain": [
       "(0.7388961881746053, (0.7164812170965191, 0.7613111592526915))"
      ]
     },
     "execution_count": 48,
     "metadata": {},
     "output_type": "execute_result"
    }
   ],
   "source": [
    "from simulations import utilization\n",
    "utilization(sim)"
   ]
  },
  {
   "cell_type": "code",
   "execution_count": 51,
   "metadata": {},
   "outputs": [
    {
     "data": {
      "text/plain": [
       "run\n",
       "0    124.00\n",
       "1    124.25\n",
       "2    124.75\n",
       "3    124.50\n",
       "4    124.75\n",
       "5    123.75\n",
       "6    124.75\n",
       "7    124.25\n",
       "8    124.75\n",
       "9    124.75\n",
       "Name: op, dtype: float64"
      ]
     },
     "execution_count": 51,
     "metadata": {},
     "output_type": "execute_result"
    }
   ],
   "source": [
    "D = 1/sim.mu\n",
    "sim.data[sim.data.op == 's'].groupby('run').op.count() * D"
   ]
  },
  {
   "cell_type": "code",
   "execution_count": 52,
   "metadata": {},
   "outputs": [
    {
     "data": {
      "text/plain": [
       "run\n",
       "0    167.329760\n",
       "1    165.975991\n",
       "2    167.017456\n",
       "3    164.272443\n",
       "4    166.198010\n",
       "5    165.838473\n",
       "6    170.016226\n",
       "7    161.476680\n",
       "8    174.682211\n",
       "9    164.864503\n",
       "Name: time, dtype: float64"
      ]
     },
     "execution_count": 52,
     "metadata": {},
     "output_type": "execute_result"
    }
   ],
   "source": [
    "sim.data.groupby('run').time.max()"
   ]
  },
  {
   "cell_type": "code",
   "execution_count": null,
   "metadata": {},
   "outputs": [],
   "source": []
  }
 ],
 "metadata": {
  "interpreter": {
   "hash": "2db524e06e9f5f4ffedc911c917cb75e12dbc923643829bf417064a77eb14d37"
  },
  "kernelspec": {
   "display_name": "Python 3.8.3 64-bit (system)",
   "language": "python",
   "name": "python3"
  },
  "language_info": {
   "codemirror_mode": {
    "name": "ipython",
    "version": 3
   },
   "file_extension": ".py",
   "mimetype": "text/x-python",
   "name": "python",
   "nbconvert_exporter": "python",
   "pygments_lexer": "ipython3",
   "version": "3.8.3"
  },
  "orig_nbformat": 4
 },
 "nbformat": 4,
 "nbformat_minor": 2
}
